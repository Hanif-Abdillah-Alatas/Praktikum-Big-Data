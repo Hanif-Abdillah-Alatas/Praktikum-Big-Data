{
 "cells": [
  {
   "cell_type": "markdown",
   "id": "b76c6345-0726-449a-98e0-1eab1375b8c9",
   "metadata": {},
   "source": [
    "Tugas 1: Pastikan MongoDB telah terpasang dan berjalan. Hubungkan ke MongoDB lokal."
   ]
  },
  {
   "cell_type": "code",
   "execution_count": 3,
   "id": "1f1633e0-8b48-42dd-8ec9-b9673af1ec9c",
   "metadata": {},
   "outputs": [
    {
     "name": "stdout",
     "output_type": "stream",
     "text": [
      "Connected to MongoDB\n"
     ]
    }
   ],
   "source": [
    "from pymongo import MongoClient\n",
    "\n",
    "# Inisialisasi client dan koneksi ke database\n",
    "client = MongoClient('mongodb://localhost:27017/')\n",
    "db = client['company_db']\n",
    "collection = db['employees']\n",
    "\n",
    "# Contoh untuk memastikan koneksi\n",
    "print('Connected to MongoDB')"
   ]
  },
  {
   "cell_type": "markdown",
   "id": "94577d3e-3748-4a18-808f-05cd2f031cec",
   "metadata": {},
   "source": [
    "Tugas 2: Insert, Update, dan Delete data pada koleksi employees."
   ]
  },
  {
   "cell_type": "code",
   "execution_count": 19,
   "id": "9c4d2991-c5ae-49f2-8e5d-31a63be28b0e",
   "metadata": {},
   "outputs": [
    {
     "name": "stdout",
     "output_type": "stream",
     "text": [
      "Data berhasil dimasukkan\n",
      "Data 'Dewi' berhasil diperbarui\n",
      "Data 'James' berhasil dihapus\n",
      "\n",
      "Data karyawan:\n",
      "{'_id': ObjectId('69033c738bf46d9bfbe4691e'), 'name': 'Ahmad', 'department': 'IT', 'age': 25, 'salary': 4200}\n",
      "{'_id': ObjectId('69033c738bf46d9bfbe4691f'), 'name': 'Eka', 'department': 'IT', 'age': 24, 'salary': 4000}\n",
      "{'_id': ObjectId('69033c738bf46d9bfbe46920'), 'name': 'John', 'department': 'IT', 'age': 29, 'salary': 4800}\n",
      "{'_id': ObjectId('69033c738bf46d9bfbe46921'), 'name': 'Chen Yu', 'department': 'IT', 'age': 30, 'salary': 5000}\n",
      "{'_id': ObjectId('69033c738bf46d9bfbe46922'), 'name': 'Lina', 'department': 'IT', 'age': 27, 'salary': 4700}\n",
      "{'_id': ObjectId('69033c738bf46d9bfbe46923'), 'name': 'Rudi', 'department': 'IT', 'age': 32, 'salary': 5200}\n",
      "{'_id': ObjectId('69033c738bf46d9bfbe46924'), 'name': 'Budi', 'department': 'Finance', 'age': 30, 'salary': 5000}\n",
      "{'_id': ObjectId('69033c738bf46d9bfbe46925'), 'name': 'Han', 'department': 'Finance', 'age': 35, 'salary': 6000}\n",
      "{'_id': ObjectId('69033c738bf46d9bfbe46926'), 'name': 'Alice', 'department': 'Finance', 'age': 27, 'salary': 4600}\n",
      "{'_id': ObjectId('69033c738bf46d9bfbe46927'), 'name': 'Olivia', 'department': 'Finance', 'age': 28, 'salary': 4700}\n",
      "{'_id': ObjectId('69033c738bf46d9bfbe46928'), 'name': 'Dimas', 'department': 'Finance', 'age': 33, 'salary': 5500}\n",
      "{'_id': ObjectId('69033c738bf46d9bfbe46929'), 'name': 'Vera', 'department': 'Finance', 'age': 26, 'salary': 4800}\n",
      "{'_id': ObjectId('69033c738bf46d9bfbe4692a'), 'name': 'Citra', 'department': 'Marketing', 'age': 27, 'salary': 4600}\n",
      "{'_id': ObjectId('69033c738bf46d9bfbe4692b'), 'name': 'Li Mei', 'department': 'Marketing', 'age': 28, 'salary': 4700}\n",
      "{'_id': ObjectId('69033c738bf46d9bfbe4692c'), 'name': 'Robert', 'department': 'Marketing', 'age': 32, 'salary': 5100}\n",
      "{'_id': ObjectId('69033c738bf46d9bfbe4692d'), 'name': 'Nina', 'department': 'Marketing', 'age': 29, 'salary': 4800}\n",
      "{'_id': ObjectId('69033c738bf46d9bfbe4692e'), 'name': 'Hendra', 'department': 'Marketing', 'age': 31, 'salary': 5300}\n",
      "{'_id': ObjectId('69033c738bf46d9bfbe4692f'), 'name': 'Sarah', 'department': 'Marketing', 'age': 26, 'salary': 4450}\n",
      "{'_id': ObjectId('69033c738bf46d9bfbe46930'), 'name': 'Dewi', 'department': 'HR', 'age': 29, 'salary': 4800}\n",
      "{'_id': ObjectId('69033c738bf46d9bfbe46931'), 'name': 'Zhang Wei', 'department': 'HR', 'age': 33, 'salary': 5200}\n",
      "{'_id': ObjectId('69033c738bf46d9bfbe46933'), 'name': 'Hanif', 'department': 'HR', 'age': 25, 'salary': 5500}\n",
      "{'_id': ObjectId('69033c738bf46d9bfbe46934'), 'name': 'Ayu', 'department': 'HR', 'age': 27, 'salary': 4600}\n",
      "{'_id': ObjectId('69033c738bf46d9bfbe46935'), 'name': 'Kevin', 'department': 'HR', 'age': 30, 'salary': 4800}\n",
      "{'_id': ObjectId('69033c738bf46d9bfbe46936'), 'name': 'Fajar', 'department': 'Sales', 'age': 31, 'salary': 4900}\n",
      "{'_id': ObjectId('69033c738bf46d9bfbe46937'), 'name': 'William', 'department': 'Sales', 'age': 34, 'salary': 5300}\n",
      "{'_id': ObjectId('69033c738bf46d9bfbe46938'), 'name': 'Wang Li', 'department': 'Sales', 'age': 33, 'salary': 5200}\n",
      "{'_id': ObjectId('69033c738bf46d9bfbe46939'), 'name': 'Rina', 'department': 'Sales', 'age': 28, 'salary': 4800}\n",
      "{'_id': ObjectId('69033c738bf46d9bfbe4693a'), 'name': 'Bagus', 'department': 'Sales', 'age': 29, 'salary': 4600}\n",
      "{'_id': ObjectId('69033c738bf46d9bfbe4693b'), 'name': 'Lukman', 'department': 'Sales', 'age': 35, 'salary': 5500}\n",
      "{'_id': ObjectId('69033c738bf46d9bfbe4693c'), 'name': 'Gilang', 'department': 'Design', 'age': 26, 'salary': 4500}\n",
      "{'_id': ObjectId('69033c738bf46d9bfbe4693d'), 'name': 'Emma', 'department': 'Design', 'age': 25, 'salary': 4400}\n",
      "{'_id': ObjectId('69033c738bf46d9bfbe4693e'), 'name': 'Liu Fang', 'department': 'Design', 'age': 26, 'salary': 4500}\n",
      "{'_id': ObjectId('69033c738bf46d9bfbe4693f'), 'name': 'Raisa', 'department': 'Design', 'age': 28, 'salary': 4700}\n",
      "{'_id': ObjectId('69033c738bf46d9bfbe46940'), 'name': 'Farhan', 'department': 'Design', 'age': 29, 'salary': 4800}\n",
      "{'_id': ObjectId('69033c738bf46d9bfbe46941'), 'name': 'Tara', 'department': 'Design', 'age': 30, 'salary': 4900}\n"
     ]
    }
   ],
   "source": [
    "collection.delete_many({})\n",
    "\n",
    "# Menambah (insert) data\n",
    "employee_list = [\n",
    "    # IT Department\n",
    "    {'name': 'Ahmad', 'department': 'IT', 'age': 25, 'salary': 4200},\n",
    "    {'name': 'Eka', 'department': 'IT', 'age': 24, 'salary': 4000},\n",
    "    {'name': 'John', 'department': 'IT', 'age': 29, 'salary': 4800},\n",
    "    {'name': 'Chen Yu', 'department': 'IT', 'age': 30, 'salary': 5000},\n",
    "    {'name': 'Lina', 'department': 'IT', 'age': 27, 'salary': 4700},\n",
    "    {'name': 'Rudi', 'department': 'IT', 'age': 32, 'salary': 5200},\n",
    "\n",
    "    # Finance Department\n",
    "    {'name': 'Budi', 'department': 'Finance', 'age': 30, 'salary': 5000},\n",
    "    {'name': 'Han', 'department': 'Finance', 'age': 35, 'salary': 6000},\n",
    "    {'name': 'Alice', 'department': 'Finance', 'age': 27, 'salary': 4600},\n",
    "    {'name': 'Olivia', 'department': 'Finance', 'age': 28, 'salary': 4700},\n",
    "    {'name': 'Dimas', 'department': 'Finance', 'age': 33, 'salary': 5500},\n",
    "    {'name': 'Vera', 'department': 'Finance', 'age': 26, 'salary': 4800},\n",
    "\n",
    "    # Marketing Department\n",
    "    {'name': 'Citra', 'department': 'Marketing', 'age': 27, 'salary': 4600},\n",
    "    {'name': 'Li Mei', 'department': 'Marketing', 'age': 28, 'salary': 4700},\n",
    "    {'name': 'Robert', 'department': 'Marketing', 'age': 32, 'salary': 5100},\n",
    "    {'name': 'Nina', 'department': 'Marketing', 'age': 29, 'salary': 4800},\n",
    "    {'name': 'Hendra', 'department': 'Marketing', 'age': 31, 'salary': 5300},\n",
    "    {'name': 'Sarah', 'department': 'Marketing', 'age': 26, 'salary': 4450},\n",
    "\n",
    "    # HR Department\n",
    "    {'name': 'Dewi', 'department': 'HR', 'age': 29, 'salary': 4700},\n",
    "    {'name': 'Zhang Wei', 'department': 'HR', 'age': 33, 'salary': 5200},\n",
    "    {'name': 'James', 'department': 'HR', 'age': 31, 'salary': 4950},\n",
    "    {'name': 'Hanif', 'department': 'HR', 'age': 25, 'salary': 5500},\n",
    "    {'name': 'Ayu', 'department': 'HR', 'age': 27, 'salary': 4600},\n",
    "    {'name': 'Kevin', 'department': 'HR', 'age': 30, 'salary': 4800},\n",
    "\n",
    "    # Sales Department\n",
    "    {'name': 'Fajar', 'department': 'Sales', 'age': 31, 'salary': 4900},\n",
    "    {'name': 'William', 'department': 'Sales', 'age': 34, 'salary': 5300},\n",
    "    {'name': 'Wang Li', 'department': 'Sales', 'age': 33, 'salary': 5200},\n",
    "    {'name': 'Rina', 'department': 'Sales', 'age': 28, 'salary': 4800},\n",
    "    {'name': 'Bagus', 'department': 'Sales', 'age': 29, 'salary': 4600},\n",
    "    {'name': 'Lukman', 'department': 'Sales', 'age': 35, 'salary': 5500},\n",
    "\n",
    "    # Design Department\n",
    "    {'name': 'Gilang', 'department': 'Design', 'age': 26, 'salary': 4500},\n",
    "    {'name': 'Emma', 'department': 'Design', 'age': 25, 'salary': 4400},\n",
    "    {'name': 'Liu Fang', 'department': 'Design', 'age': 26, 'salary': 4500},\n",
    "    {'name': 'Raisa', 'department': 'Design', 'age': 28, 'salary': 4700},\n",
    "    {'name': 'Farhan', 'department': 'Design', 'age': 29, 'salary': 4800},\n",
    "    {'name': 'Tara', 'department': 'Design', 'age': 30, 'salary': 4900}\n",
    "]\n",
    "\n",
    "collection.insert_many(employee_list)\n",
    "print('Data berhasil dimasukkan')\n",
    "\n",
    "# Update data\n",
    "collection.update_one(\n",
    "    {'name': 'Dewi'},                 # Filter data\n",
    "    {'$set': {'salary': 4800}}        # Data yang akan diubah\n",
    ")\n",
    "print(\"Data 'Dewi' berhasil diperbarui\")\n",
    "\n",
    "# Menghapus (delete) data\n",
    "collection.delete_one({'name': 'James'})\n",
    "print(\"Data 'James' berhasil dihapus\")\n",
    "\n",
    "# Menampilkan output\n",
    "print(\"\\nData karyawan:\")\n",
    "for emp in collection.find():\n",
    "    print(emp)"
   ]
  },
  {
   "cell_type": "code",
   "execution_count": null,
   "id": "6d596c65-4d48-4c31-b4fa-a3446f948eb3",
   "metadata": {},
   "outputs": [],
   "source": [
    "Tugas 3: Terapkan aggregation untuk menghitung rata-rata gaji per departemen."
   ]
  },
  {
   "cell_type": "code",
   "execution_count": 5,
   "id": "af864d59-697e-4671-864b-aa71270a4030",
   "metadata": {},
   "outputs": [
    {
     "name": "stdout",
     "output_type": "stream",
     "text": [
      "\n",
      "Rata-rata gaji per departemen:\n",
      "Design: 4466.67\n",
      "Finance: 5075.00\n",
      "HR: 5166.67\n",
      "IT: 4500.00\n",
      "Marketing: 4800.00\n",
      "Sales: 5133.33\n"
     ]
    }
   ],
   "source": [
    "# Rata-rata gaji per departemen\n",
    "pipeline = [\n",
    "    {'$group': {'_id': '$department', 'average_salary': {'$avg': '$salary'}}},\n",
    "    {'$sort': {'_id': 1}}  # agar hasil rapi terurut\n",
    "]\n",
    "\n",
    "print('\\nRata-rata gaji per departemen:')\n",
    "for result in collection.aggregate(pipeline):\n",
    "    print(f\"{result['_id']}: {result['average_salary']:.2f}\")"
   ]
  },
  {
   "cell_type": "code",
   "execution_count": null,
   "id": "a2ee86a1-a542-4622-a16c-dbab19613db5",
   "metadata": {},
   "outputs": [],
   "source": [
    "Latihan 4.1: Buatlah koleksi baru products dan masukkan data produk (minimal 10 produk)."
   ]
  },
  {
   "cell_type": "code",
   "execution_count": 7,
   "id": "effe41ae-7b29-40de-8a84-80a54fc218a1",
   "metadata": {},
   "outputs": [
    {
     "name": "stdout",
     "output_type": "stream",
     "text": [
      "Connected to MongoDB\n",
      "Data produk berhasil dimasukkan ke koleksi \"products\"\n",
      "{'_id': ObjectId('69033a178bf46d9bfbe468d2'), 'product_id': 1, 'name': 'Laptop X200', 'category': 'Electronics', 'price': 12000000, 'stock': 15}\n",
      "{'_id': ObjectId('69033a178bf46d9bfbe468d3'), 'product_id': 2, 'name': 'Smartphone A55', 'category': 'Electronics', 'price': 4500000, 'stock': 30}\n",
      "{'_id': ObjectId('69033a178bf46d9bfbe468d4'), 'product_id': 3, 'name': 'Headphone Sonic', 'category': 'Accessories', 'price': 750000, 'stock': 50}\n",
      "{'_id': ObjectId('69033a178bf46d9bfbe468d5'), 'product_id': 4, 'name': 'Keyboard Pro', 'category': 'Accessories', 'price': 550000, 'stock': 40}\n",
      "{'_id': ObjectId('69033a178bf46d9bfbe468d6'), 'product_id': 5, 'name': 'Mouse Ultra', 'category': 'Accessories', 'price': 300000, 'stock': 60}\n",
      "{'_id': ObjectId('69033a178bf46d9bfbe468d7'), 'product_id': 6, 'name': 'Monitor Vision 24\"', 'category': 'Electronics', 'price': 2100000, 'stock': 25}\n",
      "{'_id': ObjectId('69033a178bf46d9bfbe468d8'), 'product_id': 7, 'name': 'Flashdisk 64GB', 'category': 'Storage', 'price': 120000, 'stock': 100}\n",
      "{'_id': ObjectId('69033a178bf46d9bfbe468d9'), 'product_id': 8, 'name': 'SSD 1TB', 'category': 'Storage', 'price': 1500000, 'stock': 20}\n",
      "{'_id': ObjectId('69033a178bf46d9bfbe468da'), 'product_id': 9, 'name': 'Printer Jet 3000', 'category': 'Office', 'price': 1800000, 'stock': 10}\n",
      "{'_id': ObjectId('69033a178bf46d9bfbe468db'), 'product_id': 10, 'name': 'Chair Comfort', 'category': 'Furniture', 'price': 900000, 'stock': 12}\n"
     ]
    }
   ],
   "source": [
    "from pymongo import MongoClient\n",
    "\n",
    "# Koneksi ke MongoDB\n",
    "client = MongoClient('mongodb://localhost:27017/')\n",
    "db = client['company_db']  \n",
    "products = db['products']   # koleksi baru: products\n",
    "\n",
    "print('Connected to MongoDB')\n",
    "\n",
    "# Data produkLatihan 4.1: Buatlah koleksi baru products dan masukkan data produk (minimal 10 produk).\n",
    "product_list = [\n",
    "    {'product_id': 1, 'name': 'Laptop X200', 'category': 'Electronics', 'price': 12000000, 'stock': 15},\n",
    "    {'product_id': 2, 'name': 'Smartphone A55', 'category': 'Electronics', 'price': 4500000, 'stock': 30},\n",
    "    {'product_id': 3, 'name': 'Headphone Sonic', 'category': 'Accessories', 'price': 750000, 'stock': 50},\n",
    "    {'product_id': 4, 'name': 'Keyboard Pro', 'category': 'Accessories', 'price': 550000, 'stock': 40},\n",
    "    {'product_id': 5, 'name': 'Mouse Ultra', 'category': 'Accessories', 'price': 300000, 'stock': 60},\n",
    "    {'product_id': 6, 'name': 'Monitor Vision 24\"', 'category': 'Electronics', 'price': 2100000, 'stock': 25},\n",
    "    {'product_id': 7, 'name': 'Flashdisk 64GB', 'category': 'Storage', 'price': 120000, 'stock': 100},\n",
    "    {'product_id': 8, 'name': 'SSD 1TB', 'category': 'Storage', 'price': 1500000, 'stock': 20},\n",
    "    {'product_id': 9, 'name': 'Printer Jet 3000', 'category': 'Office', 'price': 1800000, 'stock': 10},\n",
    "    {'product_id': 10, 'name': 'Chair Comfort', 'category': 'Furniture', 'price': 900000, 'stock': 12}\n",
    "]\n",
    "\n",
    "# Masukkan data ke koleksi\n",
    "products.insert_many(product_list)\n",
    "print('Data produk berhasil dimasukkan ke koleksi \"products\"')\n",
    "\n",
    "# Tampilkan semua produk\n",
    "for p in products.find():\n",
    "    print(p)"
   ]
  },
  {
   "cell_type": "code",
   "execution_count": null,
   "id": "5236260e-88f5-476d-a884-2ba34bba41a3",
   "metadata": {},
   "outputs": [],
   "source": [
    "Latihan 4.2: Lakukan query untuk menemukan produk dengan harga di atas rata-rata."
   ]
  },
  {
   "cell_type": "code",
   "execution_count": 8,
   "id": "e23f2798-3f4e-4522-84ad-8408faf1d6af",
   "metadata": {},
   "outputs": [
    {
     "name": "stdout",
     "output_type": "stream",
     "text": [
      "\n",
      "Rata-rata harga semua produk: Rp 2,452,000.00\n",
      "\n",
      "Produk dengan harga di atas rata-rata:\n",
      "- Laptop X200 (Electronics): Rp 12,000,000\n",
      "- Smartphone A55 (Electronics): Rp 4,500,000\n"
     ]
    }
   ],
   "source": [
    "# Hitung rata-rata harga semua produk\n",
    "pipeline_avg = [\n",
    "    {'$group': {'_id': None, 'average_price': {'$avg': '$price'}}}\n",
    "]\n",
    "\n",
    "average_price_result = list(products.aggregate(pipeline_avg))\n",
    "average_price = average_price_result[0]['average_price']\n",
    "print(f\"\\nRata-rata harga semua produk: Rp {average_price:,.2f}\")\n",
    "\n",
    "# Cari produk dengan harga di atas rata-rata\n",
    "pipeline_above_avg = [\n",
    "    {'$match': {'price': {'$gt': average_price}}},\n",
    "    {'$project': {'_id': 0, 'name': 1, 'category': 1, 'price': 1}}\n",
    "]\n",
    "\n",
    "print(\"\\nProduk dengan harga di atas rata-rata:\")\n",
    "for product in products.aggregate(pipeline_above_avg):\n",
    "    print(f\"- {product['name']} ({product['category']}): Rp {product['price']:,.0f}\")"
   ]
  },
  {
   "cell_type": "code",
   "execution_count": null,
   "id": "06c8c28b-c2c8-40a2-89d5-443ce3e9406e",
   "metadata": {},
   "outputs": [],
   "source": [
    "Latihan 4.3: Buatlah aggregation pipeline untuk menghitung total produk dalam setiap kategori."
   ]
  },
  {
   "cell_type": "code",
   "execution_count": 10,
   "id": "740f9d2f-fbb3-4886-9f93-8f331005a14f",
   "metadata": {},
   "outputs": [
    {
     "name": "stdout",
     "output_type": "stream",
     "text": [
      "\n",
      "Total produk per kategori:\n",
      "- Accessories: 3 produk\n",
      "- Electronics: 3 produk\n",
      "- Furniture: 1 produk\n",
      "- Office: 1 produk\n",
      "- Storage: 2 produk\n"
     ]
    }
   ],
   "source": [
    "# Total produk per kategori\n",
    "pipeline = [\n",
    "    {\n",
    "        '$group': {\n",
    "            '_id': '$category', # kelompokkan berdasarkan kategori\n",
    "            'total_products': {'$sum': 1} # hitung jumlah produk\n",
    "        }\n",
    "    },\n",
    "    {\n",
    "        '$sort': {'_id': 1} # urutkan hasil berdasarkan nama kategori\n",
    "    }\n",
    "]\n",
    "\n",
    "print(\"\\nTotal produk per kategori:\")\n",
    "for result in products.aggregate(pipeline):\n",
    "    print(f\"- {result['_id']}: {result['total_products']} produk\")"
   ]
  },
  {
   "cell_type": "code",
   "execution_count": null,
   "id": "9748c787-7e07-4f11-a24f-62985b5f3fce",
   "metadata": {},
   "outputs": [],
   "source": [
    "Tugas 1: Cari 5 karyawan dengan gaji tertinggi dalam setiap departemen, gunakan query atau aggregation yang sesuai."
   ]
  },
  {
   "cell_type": "code",
   "execution_count": 20,
   "id": "3f9ee1b3-6137-4b03-a33f-646bd92149ae",
   "metadata": {},
   "outputs": [
    {
     "name": "stdout",
     "output_type": "stream",
     "text": [
      "\n",
      "5 Karyawan dengan gaji tertinggi per departemen:\n",
      "\n",
      "Departemen: Design\n",
      "- Tara: Rp 4,900\n",
      "- Farhan: Rp 4,800\n",
      "- Raisa: Rp 4,700\n",
      "- Gilang: Rp 4,500\n",
      "- Liu Fang: Rp 4,500\n",
      "\n",
      "Departemen: Finance\n",
      "- Han: Rp 6,000\n",
      "- Dimas: Rp 5,500\n",
      "- Budi: Rp 5,000\n",
      "- Vera: Rp 4,800\n",
      "- Olivia: Rp 4,700\n",
      "\n",
      "Departemen: HR\n",
      "- Hanif: Rp 5,500\n",
      "- Zhang Wei: Rp 5,200\n",
      "- Dewi: Rp 4,800\n",
      "- Kevin: Rp 4,800\n",
      "- Ayu: Rp 4,600\n",
      "\n",
      "Departemen: IT\n",
      "- Rudi: Rp 5,200\n",
      "- Chen Yu: Rp 5,000\n",
      "- John: Rp 4,800\n",
      "- Lina: Rp 4,700\n",
      "- Ahmad: Rp 4,200\n",
      "\n",
      "Departemen: Marketing\n",
      "- Hendra: Rp 5,300\n",
      "- Robert: Rp 5,100\n",
      "- Nina: Rp 4,800\n",
      "- Li Mei: Rp 4,700\n",
      "- Citra: Rp 4,600\n",
      "\n",
      "Departemen: Sales\n",
      "- Lukman: Rp 5,500\n",
      "- William: Rp 5,300\n",
      "- Wang Li: Rp 5,200\n",
      "- Fajar: Rp 4,900\n",
      "- Rina: Rp 4,800\n"
     ]
    }
   ],
   "source": [
    "from pymongo import MongoClient\n",
    "\n",
    "# Koneksi ke MongoDB\n",
    "client = MongoClient('mongodb://localhost:27017/')\n",
    "db = client['company_db']\n",
    "collection = db['employees']\n",
    "\n",
    "# 5 karyawan dengan gaji tertinggi di setiap departemen\n",
    "pipeline = [\n",
    "    {'$sort': {'department': 1, 'salary': -1}},  # Urutkan per departemen dan gaji tertinggi\n",
    "    {\n",
    "        '$group': {\n",
    "            '_id': '$department',\n",
    "            'top_employees': {\n",
    "                '$push': {\n",
    "                    'name': '$name',\n",
    "                    'salary': '$salary'\n",
    "                }\n",
    "            }\n",
    "        }\n",
    "    },\n",
    "    {\n",
    "        '$project': {\n",
    "            '_id': 1,\n",
    "            'top_5': {'$slice': ['$top_employees', 5]}  # 5 teratas\n",
    "        }\n",
    "    },\n",
    "    {'$sort': {'_id': 1}}  \n",
    "]\n",
    "\n",
    "print(\"\\n5 Karyawan dengan gaji tertinggi per departemen:\")\n",
    "for result in collection.aggregate(pipeline):\n",
    "    print(f\"\\nDepartemen: {result['_id']}\")\n",
    "    for emp in result['top_5']:\n",
    "        print(f\"- {emp['name']}: Rp {emp['salary']:,}\")"
   ]
  },
  {
   "cell_type": "code",
   "execution_count": null,
   "id": "b60b5c75-8eaa-4c23-a38a-512891677451",
   "metadata": {},
   "outputs": [],
   "source": [
    "Tugas 2: Buatlah skenario di mana Anda harus menghapus karyawan yang berusia di bawah 25 tahun dari database."
   ]
  },
  {
   "cell_type": "code",
   "execution_count": 21,
   "id": "d33d96ff-eb00-42cc-b309-38a06d56acc6",
   "metadata": {},
   "outputs": [
    {
     "name": "stdout",
     "output_type": "stream",
     "text": [
      "1 karyawan dihapus (usia di bawah 25 tahun).\n",
      "{'name': 'Ahmad', 'department': 'IT', 'age': 25}\n",
      "{'name': 'John', 'department': 'IT', 'age': 29}\n",
      "{'name': 'Chen Yu', 'department': 'IT', 'age': 30}\n",
      "{'name': 'Lina', 'department': 'IT', 'age': 27}\n",
      "{'name': 'Rudi', 'department': 'IT', 'age': 32}\n",
      "{'name': 'Budi', 'department': 'Finance', 'age': 30}\n",
      "{'name': 'Han', 'department': 'Finance', 'age': 35}\n",
      "{'name': 'Alice', 'department': 'Finance', 'age': 27}\n",
      "{'name': 'Olivia', 'department': 'Finance', 'age': 28}\n",
      "{'name': 'Dimas', 'department': 'Finance', 'age': 33}\n",
      "{'name': 'Vera', 'department': 'Finance', 'age': 26}\n",
      "{'name': 'Citra', 'department': 'Marketing', 'age': 27}\n",
      "{'name': 'Li Mei', 'department': 'Marketing', 'age': 28}\n",
      "{'name': 'Robert', 'department': 'Marketing', 'age': 32}\n",
      "{'name': 'Nina', 'department': 'Marketing', 'age': 29}\n",
      "{'name': 'Hendra', 'department': 'Marketing', 'age': 31}\n",
      "{'name': 'Sarah', 'department': 'Marketing', 'age': 26}\n",
      "{'name': 'Dewi', 'department': 'HR', 'age': 29}\n",
      "{'name': 'Zhang Wei', 'department': 'HR', 'age': 33}\n",
      "{'name': 'Hanif', 'department': 'HR', 'age': 25}\n",
      "{'name': 'Ayu', 'department': 'HR', 'age': 27}\n",
      "{'name': 'Kevin', 'department': 'HR', 'age': 30}\n",
      "{'name': 'Fajar', 'department': 'Sales', 'age': 31}\n",
      "{'name': 'William', 'department': 'Sales', 'age': 34}\n",
      "{'name': 'Wang Li', 'department': 'Sales', 'age': 33}\n",
      "{'name': 'Rina', 'department': 'Sales', 'age': 28}\n",
      "{'name': 'Bagus', 'department': 'Sales', 'age': 29}\n",
      "{'name': 'Lukman', 'department': 'Sales', 'age': 35}\n",
      "{'name': 'Gilang', 'department': 'Design', 'age': 26}\n",
      "{'name': 'Emma', 'department': 'Design', 'age': 25}\n",
      "{'name': 'Liu Fang', 'department': 'Design', 'age': 26}\n",
      "{'name': 'Raisa', 'department': 'Design', 'age': 28}\n",
      "{'name': 'Farhan', 'department': 'Design', 'age': 29}\n",
      "{'name': 'Tara', 'department': 'Design', 'age': 30}\n"
     ]
    }
   ],
   "source": [
    "# Hapus karyawan yang berusia di bawah 25 tahun\n",
    "result = collection.delete_many({'age': {'$lt': 25}})\n",
    "\n",
    "print(f\"{result.deleted_count} karyawan dihapus (usia di bawah 25 tahun).\")\n",
    "\n",
    "# Tampilkan data\n",
    "for emp in collection.find({}, {'_id': 0, 'name': 1, 'age': 1, 'department': 1}):\n",
    "    print(emp)"
   ]
  },
  {
   "cell_type": "code",
   "execution_count": null,
   "id": "d896ba21-1915-4f27-bd61-79e84cfdde0f",
   "metadata": {},
   "outputs": [],
   "source": [
    "Tugas 3: Buatlah laporan ringkas (menggunakan MongoDB query) yang menghitung total gaji karyawan di setiap departemen, serta rata-rata umur karyawan."
   ]
  },
  {
   "cell_type": "code",
   "execution_count": 22,
   "id": "aac31155-a3b9-4dd7-aa0b-6fdda96c5343",
   "metadata": {},
   "outputs": [
    {
     "name": "stdout",
     "output_type": "stream",
     "text": [
      "Laporan Total Gaji dan Rata-rata Umur per Departemen:\n",
      "\n",
      "Departemen: Design\n",
      "  Total Gaji   : 27800\n",
      "  Rata-rata Umur: 27.33 tahun\n",
      "----------------------------------------\n",
      "Departemen: Finance\n",
      "  Total Gaji   : 30600\n",
      "  Rata-rata Umur: 29.83 tahun\n",
      "----------------------------------------\n",
      "Departemen: HR\n",
      "  Total Gaji   : 24900\n",
      "  Rata-rata Umur: 28.8 tahun\n",
      "----------------------------------------\n",
      "Departemen: IT\n",
      "  Total Gaji   : 23900\n",
      "  Rata-rata Umur: 28.6 tahun\n",
      "----------------------------------------\n",
      "Departemen: Marketing\n",
      "  Total Gaji   : 28950\n",
      "  Rata-rata Umur: 28.83 tahun\n",
      "----------------------------------------\n",
      "Departemen: Sales\n",
      "  Total Gaji   : 30300\n",
      "  Rata-rata Umur: 31.67 tahun\n",
      "----------------------------------------\n"
     ]
    }
   ],
   "source": [
    "# Menghitung total gaji dan rata-rata umur per departemen\n",
    "pipeline = [\n",
    "    {\n",
    "        '$group': {\n",
    "            '_id': '$department',\n",
    "            'total_salary': {'$sum': '$salary'},\n",
    "            'average_age': {'$avg': '$age'}\n",
    "        }\n",
    "    },\n",
    "    {\n",
    "        '$sort': {'_id': 1}  # Mengurutkan hasil berdasarkan nama departemen\n",
    "    }\n",
    "]\n",
    "\n",
    "# Tampilkan hasil\n",
    "print(\"Laporan Total Gaji dan Rata-rata Umur per Departemen:\\n\")\n",
    "for result in collection.aggregate(pipeline):\n",
    "    print(f\"Departemen: {result['_id']}\")\n",
    "    print(f\"  Total Gaji   : {result['total_salary']}\")\n",
    "    print(f\"  Rata-rata Umur: {round(result['average_age'], 2)} tahun\")\n",
    "    print(\"-\" * 40)"
   ]
  }
 ],
 "metadata": {
  "kernelspec": {
   "display_name": "Python [conda env:Hanif]",
   "language": "python",
   "name": "conda-env-Hanif-py"
  },
  "language_info": {
   "codemirror_mode": {
    "name": "ipython",
    "version": 3
   },
   "file_extension": ".py",
   "mimetype": "text/x-python",
   "name": "python",
   "nbconvert_exporter": "python",
   "pygments_lexer": "ipython3",
   "version": "3.13.5"
  }
 },
 "nbformat": 4,
 "nbformat_minor": 5
}
