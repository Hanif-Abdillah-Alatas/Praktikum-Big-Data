{
  "nbformat": 4,
  "nbformat_minor": 0,
  "metadata": {
    "colab": {
      "provenance": []
    },
    "kernelspec": {
      "name": "python3",
      "display_name": "Python 3"
    },
    "language_info": {
      "name": "python"
    }
  },
  "cells": [
    {
      "cell_type": "code",
      "execution_count": null,
      "metadata": {
        "colab": {
          "base_uri": "https://localhost:8080/"
        },
        "id": "X_JsYsmCs2sx",
        "outputId": "73b13142-53fd-4311-a64c-5d336c32f6e6"
      },
      "outputs": [
        {
          "output_type": "stream",
          "name": "stdout",
          "text": [
            "Hasil Map:\n",
            "[('hadoop', 1), ('hadoop', 1), ('hadoop', 1), ('data', 1), ('data', 1), ('mapreduce', 1), ('hadoop', 1), ('data', 1), ('data', 1), ('data', 1), ('hadoop', 1), ('big', 1), ('big', 1), ('big', 1), ('data', 1)]\n",
            "\n",
            "Hasil Word Count:\n",
            "hadoop : 5\n",
            "data : 6\n",
            "mapreduce : 1\n",
            "big : 3\n"
          ]
        }
      ],
      "source": [
        "# Fungsi Map\n",
        "def map_function(text):\n",
        "    for word in text.split():\n",
        "        yield (word.lower(), 1)\n",
        "\n",
        "from collections import defaultdict\n",
        "\n",
        "# Fungsi Reduce\n",
        "def reduce_function(pairs):\n",
        "    result = defaultdict(int)\n",
        "    for word, count in pairs:\n",
        "        result[word] += count\n",
        "    return result\n",
        "\n",
        "# Dataset teks\n",
        "text_dataset = [\n",
        "    \"hadoop hadoop hadoop data data\",\n",
        "    \"mapreduce hadoop data data data\",\n",
        "    \"hadoop big big big data\"\n",
        "]\n",
        "\n",
        "# Tahap Map\n",
        "mapped = []\n",
        "for line in text_dataset:\n",
        "    mapped.extend(map_function(line))\n",
        "\n",
        "print(\"Hasil Map:\")\n",
        "print(mapped)\n",
        "\n",
        "# Tahap Reduce\n",
        "reduced = reduce_function(mapped)\n",
        "\n",
        "print(\"\\nHasil Word Count:\")\n",
        "for word, count in reduced.items():\n",
        "    print(word, \":\", count)\n"
      ]
    }
  ]
}